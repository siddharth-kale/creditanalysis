{
  "nbformat": 4,
  "nbformat_minor": 0,
  "metadata": {
    "accelerator": "GPU",
    "colab": {
      "name": "Kiva Loans_CNN_Best Score.ipynb",
      "provenance": [],
      "collapsed_sections": [],
      "toc_visible": true
    },
    "kernelspec": {
      "display_name": "Python 3",
      "name": "python3"
    }
  },
  "cells": [
    {
      "cell_type": "markdown",
      "metadata": {
        "id": "HKmorPdno_n_"
      },
      "source": [
        "# Kiva Project - Example Notebook\n",
        "\n",
        "Predict whether a Kiva loan application will default.\n",
        "\n",
        "- Stephen W. Thomas\n",
        "- Used for MMAI 891."
      ]
    },
    {
      "cell_type": "markdown",
      "metadata": {
        "id": "oZFTCX4DqmRO"
      },
      "source": [
        "# Preliminaries: Inspect and Set up environment"
      ]
    },
    {
      "cell_type": "code",
      "metadata": {
        "colab": {
          "base_uri": "https://localhost:8080/"
        },
        "id": "LfOMt1lErLhZ",
        "outputId": "e4d5b4d1-2be1-4466-f23a-7419be27bbae"
      },
      "source": [
        "!which python"
      ],
      "execution_count": null,
      "outputs": [
        {
          "output_type": "stream",
          "text": [
            "/usr/local/bin/python\n"
          ],
          "name": "stdout"
        }
      ]
    },
    {
      "cell_type": "code",
      "metadata": {
        "colab": {
          "base_uri": "https://localhost:8080/"
        },
        "id": "aub2w1-arM5K",
        "outputId": "009be13c-af59-4bdc-ef85-d9c988bafbb8"
      },
      "source": [
        "!python --version"
      ],
      "execution_count": null,
      "outputs": [
        {
          "output_type": "stream",
          "text": [
            "Python 3.7.10\n"
          ],
          "name": "stdout"
        }
      ]
    },
    {
      "cell_type": "code",
      "metadata": {
        "colab": {
          "base_uri": "https://localhost:8080/"
        },
        "id": "E9Y_n_8UrO9i",
        "outputId": "c774d76e-1d38-4f38-9377-3d0725e1e7ff"
      },
      "source": [
        "!echo $PYTHONPATH"
      ],
      "execution_count": null,
      "outputs": [
        {
          "output_type": "stream",
          "text": [
            "/env/python\n"
          ],
          "name": "stdout"
        }
      ]
    },
    {
      "cell_type": "code",
      "metadata": {
        "id": "sUh4JyAIpagr",
        "colab": {
          "base_uri": "https://localhost:8080/"
        },
        "outputId": "7494d78c-58f3-4419-a27b-f9a7dc1631d5"
      },
      "source": [
        "!pip install unidecode textstat\n",
        "!pip install -q -U keras-tuner\n",
        "from tensorflow import keras\n",
        "from keras.models import Sequential\n",
        "from keras.layers import Dense\n",
        "from keras.layers import Flatten\n",
        "from keras.layers.convolutional import Conv1D\n",
        "from keras.layers.convolutional import MaxPooling1D\n",
        "from keras.layers.embeddings import Embedding\n",
        "from keras.preprocessing import sequence\n",
        "import kerastuner as kt\n",
        "\n",
        "import pandas as pd\n",
        "\n",
        "\n",
        "from sklearn.model_selection import train_test_split\n"
      ],
      "execution_count": null,
      "outputs": [
        {
          "output_type": "stream",
          "text": [
            "Collecting unidecode\n",
            "\u001b[?25l  Downloading https://files.pythonhosted.org/packages/9e/25/723487ca2a52ebcee88a34d7d1f5a4b80b793f179ee0f62d5371938dfa01/Unidecode-1.2.0-py2.py3-none-any.whl (241kB)\n",
            "\u001b[K     |████████████████████████████████| 245kB 10.6MB/s \n",
            "\u001b[?25hCollecting textstat\n",
            "\u001b[?25l  Downloading https://files.pythonhosted.org/packages/ca/b1/ab40a00b727a0d209402d1be6aa3f1bc75bd03678b59ace8507b08bf12f5/textstat-0.7.0-py3-none-any.whl (99kB)\n",
            "\u001b[K     |████████████████████████████████| 102kB 7.6MB/s \n",
            "\u001b[?25hCollecting pyphen\n",
            "\u001b[?25l  Downloading https://files.pythonhosted.org/packages/7c/5a/5bc036e01389bc6a6667a932bac3e388de6e7fa5777a6ff50e652f60ec79/Pyphen-0.10.0-py3-none-any.whl (1.9MB)\n",
            "\u001b[K     |████████████████████████████████| 1.9MB 21.1MB/s \n",
            "\u001b[?25hInstalling collected packages: unidecode, pyphen, textstat\n",
            "Successfully installed pyphen-0.10.0 textstat-0.7.0 unidecode-1.2.0\n",
            "\u001b[K     |████████████████████████████████| 71kB 6.0MB/s \n",
            "\u001b[?25h  Building wheel for keras-tuner (setup.py) ... \u001b[?25l\u001b[?25hdone\n",
            "  Building wheel for terminaltables (setup.py) ... \u001b[?25l\u001b[?25hdone\n"
          ],
          "name": "stdout"
        }
      ]
    },
    {
      "cell_type": "markdown",
      "metadata": {
        "id": "qj1NSQelo_oN"
      },
      "source": [
        "# Read Data\n",
        "\n",
        "We'll read the data from the links that Uncle Steve provided."
      ]
    },
    {
      "cell_type": "code",
      "metadata": {
        "id": "60UNWiX8YmLi"
      },
      "source": [
        "# The labeled training data\n",
        "df_train = pd.read_csv(\"https://drive.google.com/uc?export=download&id=1dzzVbgHphbCf7kvq9IKiIhwzmxPbuH4s\")\n",
        "df_test =  pd.read_csv(\"https://drive.google.com/uc?export=download&id=1EVWfyqQOd_W2uTKrr4JTD2iFrEZHoOHT\")\n",
        "\n",
        "X_train_raw = df_train['en_clean']\n",
        "X_test_raw =  df_test['en_clean']\n",
        "\n",
        "Y_train = df_train['defaulted']\n"
      ],
      "execution_count": null,
      "outputs": []
    },
    {
      "cell_type": "markdown",
      "metadata": {
        "id": "pk59WGGlgiru"
      },
      "source": [
        "# Pre-Process Data\n"
      ]
    },
    {
      "cell_type": "code",
      "metadata": {
        "id": "VbjdLUAWCpD1",
        "colab": {
          "base_uri": "https://localhost:8080/"
        },
        "outputId": "2dde7967-50f2-4732-fcc0-83a35338df48"
      },
      "source": [
        "#!pip install unidecode\n",
        "import nltk\n",
        "nltk.download('stopwords')\n",
        "nltk.download('wordnet')\n",
        "\n",
        "import re\n",
        "import unidecode\n",
        "\n",
        "def preprocessing(ds):    \n",
        "    #Remove special characters\n",
        "    ds = re.sub(r'[^\\w\\s]', '', ds)\n",
        "    # Lower case\n",
        "    ds = ds.lower()\n",
        "    #Remove non-unicode characters\n",
        "    ds = unidecode.unidecode(ds)\n",
        "    \n",
        "    return ''.join(ds) \n"
      ],
      "execution_count": null,
      "outputs": [
        {
          "output_type": "stream",
          "text": [
            "[nltk_data] Downloading package stopwords to /root/nltk_data...\n",
            "[nltk_data]   Unzipping corpora/stopwords.zip.\n",
            "[nltk_data] Downloading package wordnet to /root/nltk_data...\n",
            "[nltk_data]   Unzipping corpora/wordnet.zip.\n"
          ],
          "name": "stdout"
        }
      ]
    },
    {
      "cell_type": "markdown",
      "metadata": {
        "id": "iy8nYHKhkHsa"
      },
      "source": [
        "# Apply Pre-processing and Split the data into Training and Validation"
      ]
    },
    {
      "cell_type": "code",
      "metadata": {
        "id": "xRmnBZCTDFSu"
      },
      "source": [
        "X_train = X_train_raw.apply(lambda x: preprocessing(x))\n",
        "X_test =  X_test_raw.apply(lambda x: preprocessing(x))\n",
        "\n",
        "X_train, X_val, Y_train, Y_val = train_test_split(X_train, Y_train, random_state=42)\n",
        "\n"
      ],
      "execution_count": null,
      "outputs": []
    },
    {
      "cell_type": "code",
      "metadata": {
        "colab": {
          "base_uri": "https://localhost:8080/"
        },
        "id": "c7QvAiDX1Ytu",
        "outputId": "7ec75f53-cf68-46bf-e50b-f7715749e18d"
      },
      "source": [
        "X_train"
      ],
      "execution_count": null,
      "outputs": [
        {
          "output_type": "execute_result",
          "data": {
            "text/plain": [
              "6131    mary was born 41 years ago in empuyiankat kaji...\n",
              "5814    gladys wangari maina is 48 years old she is ma...\n",
              "5703    catherine is 33 years old and married with 3 c...\n",
              "2805    michael gaturi is a 30yearold young man who is...\n",
              "733     jane is married with grown up children she is ...\n",
              "                              ...                        \n",
              "3772    wangui is the chairlady of this group she is a...\n",
              "5191    alice wairimu kimani is 37 years old married a...\n",
              "5226    nicholas is 29 years old married and has one c...\n",
              "5390    hudson is a married man with nine children all...\n",
              "860     nancy nzisa is 38 and is a single mother of on...\n",
              "Name: en_clean, Length: 4603, dtype: object"
            ]
          },
          "metadata": {
            "tags": []
          },
          "execution_count": 6
        }
      ]
    },
    {
      "cell_type": "code",
      "metadata": {
        "colab": {
          "base_uri": "https://localhost:8080/"
        },
        "id": "Qeavkicwo_oN",
        "outputId": "2cf8c086-defc-4281-9b5b-62b9fb7b7f16"
      },
      "source": [
        "df_train.info()"
      ],
      "execution_count": null,
      "outputs": [
        {
          "output_type": "stream",
          "text": [
            "<class 'pandas.core.frame.DataFrame'>\n",
            "RangeIndex: 6138 entries, 0 to 6137\n",
            "Data columns (total 3 columns):\n",
            " #   Column     Non-Null Count  Dtype \n",
            "---  ------     --------------  ----- \n",
            " 0   loan_id    6138 non-null   int64 \n",
            " 1   en_clean   6138 non-null   object\n",
            " 2   defaulted  6138 non-null   int64 \n",
            "dtypes: int64(2), object(1)\n",
            "memory usage: 144.0+ KB\n"
          ],
          "name": "stdout"
        }
      ]
    },
    {
      "cell_type": "markdown",
      "metadata": {
        "id": "ds54cEpJgtDW"
      },
      "source": [
        "# Tokenize & Pad Input Data"
      ]
    },
    {
      "cell_type": "code",
      "metadata": {
        "id": "o219dZil7BJz"
      },
      "source": [
        "from keras.preprocessing.text import Tokenizer\n",
        "\n",
        "tokenizer = Tokenizer(num_words=10000)\n",
        "tokenizer.fit_on_texts(X_train)\n",
        "\n",
        "X_train = tokenizer.texts_to_sequences(X_train)\n",
        "X_val = tokenizer.texts_to_sequences(X_val)\n",
        "\n",
        "X_test = tokenizer.texts_to_sequences(X_test)\n",
        "\n",
        "vocab_size = len(tokenizer.word_index) + 1"
      ],
      "execution_count": null,
      "outputs": []
    },
    {
      "cell_type": "code",
      "metadata": {
        "id": "owid1ftER_xY"
      },
      "source": [
        "from keras.preprocessing.sequence import pad_sequences\n",
        "\n",
        "maxlen = 2000\n",
        "\n",
        "X_train = pad_sequences(X_train, padding='post', maxlen=maxlen)\n",
        "X_val = pad_sequences(X_val, padding='post', maxlen=maxlen)\n",
        "\n",
        "X_test = pad_sequences(X_test, padding='post', maxlen=maxlen)"
      ],
      "execution_count": null,
      "outputs": []
    },
    {
      "cell_type": "markdown",
      "metadata": {
        "id": "C7BBEFc7g6V8"
      },
      "source": [
        "# Define F1 Score as a custom performance metric"
      ]
    },
    {
      "cell_type": "code",
      "metadata": {
        "id": "dX6D3SYeWX32"
      },
      "source": [
        "from keras import backend as K\n",
        "\n",
        "def recall_m(y_true, y_pred):\n",
        "    true_positives = K.sum(K.round(K.clip(y_true * y_pred, 0, 1)))\n",
        "    possible_positives = K.sum(K.round(K.clip(y_true, 0, 1)))\n",
        "    recall = true_positives / (possible_positives + K.epsilon())\n",
        "    return recall\n",
        "\n",
        "def precision_m(y_true, y_pred):\n",
        "    true_positives = K.sum(K.round(K.clip(y_true * y_pred, 0, 1)))\n",
        "    predicted_positives = K.sum(K.round(K.clip(y_pred, 0, 1)))\n",
        "    precision = true_positives / (predicted_positives + K.epsilon())\n",
        "    return precision\n",
        "\n",
        "def f1_m(y_true, y_pred):\n",
        "    precision = precision_m(y_true, y_pred)\n",
        "    recall = recall_m(y_true, y_pred)\n",
        "    return 2*((precision*recall)/(precision+recall+K.epsilon()))"
      ],
      "execution_count": null,
      "outputs": []
    },
    {
      "cell_type": "markdown",
      "metadata": {
        "id": "vVukkOxqhKcH"
      },
      "source": [
        "# Hyperparameter Tuning using Keras Tuner"
      ]
    },
    {
      "cell_type": "code",
      "metadata": {
        "id": "w6bSYLCbQhJO"
      },
      "source": [
        "from keras.models import Sequential\n",
        "from keras import layers\n",
        "\n",
        "def build_model(hp):\n",
        "\n",
        "  embedding_dim = 200\n",
        "\n",
        "\n",
        "  model = Sequential()\n",
        "  model.add(layers.Embedding(input_dim=vocab_size, \n",
        "                           output_dim=embedding_dim, trainable = True,\n",
        "                           input_length=maxlen))\n",
        "  hp_filters = hp.Int('filters', min_value=64, max_value=320, step=32)\n",
        "  hp_kernel = hp.Int('kernel_size', min_value=2, max_value=8, step=1)\n",
        "  model.add(layers.Conv1D(filters=hp_filters,kernel_size=hp_kernel, activation='relu'))\n",
        "  model.add(layers.GlobalMaxPool1D())\n",
        "  hp_units = hp.Int('units', min_value=10, max_value=300,step=10)\n",
        "  model.add(layers.Dense(units=hp_units, activation='relu'))\n",
        "  model.add(layers.Dropout(0.4))\n",
        "  model.add(layers.Dense(1, activation='sigmoid'))\n",
        "\n",
        "  hp_learning_rate = hp.Choice('learning_rate', values=[1e-3,2e-3])\n",
        "\n",
        "  model.compile(optimizer=keras.optimizers.Adam(learning_rate=hp_learning_rate),\n",
        "              loss='binary_crossentropy',\n",
        "              metrics='accuracy')\n",
        "  model.summary()\n",
        "\n",
        "  return model"
      ],
      "execution_count": null,
      "outputs": []
    },
    {
      "cell_type": "code",
      "metadata": {
        "colab": {
          "base_uri": "https://localhost:8080/"
        },
        "id": "t2Ihyi7d7IYB",
        "outputId": "8cffa95d-c5ac-4539-930b-c85d9538f359"
      },
      "source": [
        "tuner = kt.Hyperband(build_model,\n",
        "                     objective='val_accuracy',\n",
        "                     max_epochs=10,\n",
        "                     factor=3,\n",
        "                     directory='my_dir',\n",
        "                     project_name='intro_to_kt'\n",
        "                    )"
      ],
      "execution_count": null,
      "outputs": [
        {
          "output_type": "stream",
          "text": [
            "Model: \"sequential\"\n",
            "_________________________________________________________________\n",
            "Layer (type)                 Output Shape              Param #   \n",
            "=================================================================\n",
            "embedding (Embedding)        (None, 2000, 100)         1649500   \n",
            "_________________________________________________________________\n",
            "conv1d (Conv1D)              (None, 1999, 64)          12864     \n",
            "_________________________________________________________________\n",
            "global_max_pooling1d (Global (None, 64)                0         \n",
            "_________________________________________________________________\n",
            "dense (Dense)                (None, 10)                650       \n",
            "_________________________________________________________________\n",
            "dropout (Dropout)            (None, 10)                0         \n",
            "_________________________________________________________________\n",
            "dense_1 (Dense)              (None, 1)                 11        \n",
            "=================================================================\n",
            "Total params: 1,663,025\n",
            "Trainable params: 1,663,025\n",
            "Non-trainable params: 0\n",
            "_________________________________________________________________\n"
          ],
          "name": "stdout"
        }
      ]
    },
    {
      "cell_type": "markdown",
      "metadata": {
        "id": "dA9nr3jehQJI"
      },
      "source": [
        "# Define Callbacks, EarlyStopping and LR Reducing Functions"
      ]
    },
    {
      "cell_type": "code",
      "metadata": {
        "id": "X-RUiKxPXVTA"
      },
      "source": [
        "from tensorflow.keras.callbacks import EarlyStopping, LearningRateScheduler, ReduceLROnPlateau\n",
        "\n",
        "def warmup(epoch, lr):\n",
        "  return (lr +1e-6)\n",
        "\n",
        "callback = [EarlyStopping(monitor= 'val_loss', patience=3, mode = 'max') ,\n",
        "          LearningRateScheduler (warmup, verbose = 0),\n",
        "             ReduceLROnPlateau(monitor = 'val_loss', \n",
        "                               factor = 1e-6 , \n",
        "                               patience = 2, \n",
        "                               mode ='max', \n",
        "                               min_lr = 1e-6)\n",
        "              ]   \n",
        "\n",
        "callback_new = [EarlyStopping(monitor= 'val_f1_m', patience=3, mode = 'max') ,\n",
        "          LearningRateScheduler (warmup, verbose = 0),\n",
        "             ReduceLROnPlateau(monitor = 'val_f1_m', \n",
        "                               factor = 0.01, \n",
        "                               patience = 3, \n",
        "                               mode ='max', \n",
        "                               min_lr = 0.0005)\n",
        "              ]   \n"
      ],
      "execution_count": null,
      "outputs": []
    },
    {
      "cell_type": "markdown",
      "metadata": {
        "id": "hjBYPgwihXPF"
      },
      "source": [
        "#Search for best Hyperparams"
      ]
    },
    {
      "cell_type": "code",
      "metadata": {
        "colab": {
          "base_uri": "https://localhost:8080/"
        },
        "id": "wdu4L0ph7VVJ",
        "outputId": "0059acb2-2ad2-4d99-ab41-93b51cbadb0c"
      },
      "source": [
        "tuner.search(X_train, Y_train, epochs=50, validation_split=0.2, callbacks=[callback])"
      ],
      "execution_count": null,
      "outputs": [
        {
          "output_type": "stream",
          "text": [
            "Trial 30 Complete [00h 00m 23s]\n",
            "val_accuracy: 0.8653637170791626\n",
            "\n",
            "Best val_accuracy So Far: 0.8881650567054749\n",
            "Total elapsed time: 00h 08m 41s\n",
            "INFO:tensorflow:Oracle triggered exit\n"
          ],
          "name": "stdout"
        }
      ]
    },
    {
      "cell_type": "code",
      "metadata": {
        "colab": {
          "base_uri": "https://localhost:8080/"
        },
        "id": "XaPeFp1F7kuv",
        "outputId": "e2839f47-f639-4127-bca2-1e744aacac07"
      },
      "source": [
        "best_hps=tuner.get_best_hyperparameters(num_trials=1)[0]\n",
        "\n",
        "print(f\"\"\"The hyperparameter search is complete. The optimal number of filters in the first Conv\n",
        "layer is {best_hps.get('filters')}, kernel size is {best_hps.get('kernel_size')}, the optimal units in first layer is {best_hps.get('units')} and {best_hps.get('learning_rate')}.\n",
        "\"\"\")"
      ],
      "execution_count": null,
      "outputs": [
        {
          "output_type": "stream",
          "text": [
            "The hyperparameter search is complete. The optimal number of filters in the first Conv\n",
            "layer is 192, kernel size is 3, the optimal units in first layer is 50 and 0.001.\n",
            "\n"
          ],
          "name": "stdout"
        }
      ]
    },
    {
      "cell_type": "markdown",
      "metadata": {
        "id": "0DhqCiv0hbp2"
      },
      "source": [
        "# Implement configuration of the best-tuned model"
      ]
    },
    {
      "cell_type": "code",
      "metadata": {
        "colab": {
          "base_uri": "https://localhost:8080/"
        },
        "id": "7T7IU0r-CqhA",
        "outputId": "b268ef3f-f5c3-4c40-8180-6f24a888d47b"
      },
      "source": [
        "#Despite the optimal output of the Hypertuner, I made some manual adjustments, based on previous Tuning results to tinker around in order to get best results\n",
        "\n",
        "embedding_dim = 200\n",
        "\n",
        "model_new = Sequential()\n",
        "model_new.add(layers.Embedding(input_dim=vocab_size, \n",
        "                           output_dim=embedding_dim, trainable = True,\n",
        "                           input_length=maxlen))\n",
        "model_new.add(layers.Conv1D(160,5, activation='relu'))\n",
        "model_new.add(layers.GlobalMaxPool1D())\n",
        "model_new.add(layers.Dense(50, activation='relu'))\n",
        "model_new.add(layers.Dense(1, activation='sigmoid'))\n",
        "model_new.compile(optimizer=keras.optimizers.Adam(learning_rate=0.001),\n",
        "              loss='binary_crossentropy',\n",
        "              metrics=[f1_m])\n",
        "model_new.summary()"
      ],
      "execution_count": null,
      "outputs": [
        {
          "output_type": "stream",
          "text": [
            "Model: \"sequential\"\n",
            "_________________________________________________________________\n",
            "Layer (type)                 Output Shape              Param #   \n",
            "=================================================================\n",
            "embedding (Embedding)        (None, 2000, 200)         3299000   \n",
            "_________________________________________________________________\n",
            "conv1d (Conv1D)              (None, 1996, 160)         160160    \n",
            "_________________________________________________________________\n",
            "global_max_pooling1d (Global (None, 160)               0         \n",
            "_________________________________________________________________\n",
            "dense (Dense)                (None, 50)                8050      \n",
            "_________________________________________________________________\n",
            "dense_1 (Dense)              (None, 1)                 51        \n",
            "=================================================================\n",
            "Total params: 3,467,261\n",
            "Trainable params: 3,467,261\n",
            "Non-trainable params: 0\n",
            "_________________________________________________________________\n"
          ],
          "name": "stdout"
        }
      ]
    },
    {
      "cell_type": "code",
      "metadata": {
        "colab": {
          "base_uri": "https://localhost:8080/"
        },
        "id": "WlfTFCM0ReRV",
        "outputId": "6f6cc9a3-1ef0-4cad-85d7-43c98b651e50"
      },
      "source": [
        "history = model_new.fit(X_train, Y_train,\n",
        "                    epochs=10,\n",
        "                    verbose=True,\n",
        "                    callbacks =callback_new,\n",
        "                    validation_data=(X_val, Y_val),\n",
        "                    batch_size=32)\n"
      ],
      "execution_count": null,
      "outputs": [
        {
          "output_type": "stream",
          "text": [
            "Epoch 1/10\n",
            "144/144 [==============================] - 49s 129ms/step - loss: 0.6176 - f1_m: 0.5381 - val_loss: 0.3832 - val_f1_m: 0.8178\n",
            "Epoch 2/10\n",
            "144/144 [==============================] - 18s 122ms/step - loss: 0.2555 - f1_m: 0.8970 - val_loss: 0.3053 - val_f1_m: 0.8581\n",
            "Epoch 3/10\n",
            "144/144 [==============================] - 18s 122ms/step - loss: 0.0725 - f1_m: 0.9805 - val_loss: 0.3358 - val_f1_m: 0.8626\n",
            "Epoch 4/10\n",
            "144/144 [==============================] - 18s 122ms/step - loss: 0.0221 - f1_m: 0.9965 - val_loss: 0.3926 - val_f1_m: 0.8493\n",
            "Epoch 5/10\n",
            "144/144 [==============================] - 18s 122ms/step - loss: 0.0120 - f1_m: 0.9978 - val_loss: 0.3993 - val_f1_m: 0.8621\n",
            "Epoch 6/10\n",
            "144/144 [==============================] - 18s 122ms/step - loss: 0.0070 - f1_m: 0.9977 - val_loss: 0.3951 - val_f1_m: 0.8713\n",
            "Epoch 7/10\n",
            "144/144 [==============================] - 18s 122ms/step - loss: 0.0043 - f1_m: 0.9994 - val_loss: 0.4203 - val_f1_m: 0.8631\n",
            "Epoch 8/10\n",
            "144/144 [==============================] - 18s 123ms/step - loss: 0.0062 - f1_m: 0.9989 - val_loss: 0.4291 - val_f1_m: 0.8648\n",
            "Epoch 9/10\n",
            "144/144 [==============================] - 18s 122ms/step - loss: 0.0076 - f1_m: 0.9980 - val_loss: 0.4779 - val_f1_m: 0.8456\n"
          ],
          "name": "stdout"
        }
      ]
    },
    {
      "cell_type": "code",
      "metadata": {
        "colab": {
          "base_uri": "https://localhost:8080/"
        },
        "id": "jylkkvn6bBzl",
        "outputId": "902625cc-c858-4cdf-ae37-db9064b33e51"
      },
      "source": [
        "model_new.evaluate(X_val, Y_val)"
      ],
      "execution_count": null,
      "outputs": [
        {
          "output_type": "stream",
          "text": [
            "48/48 [==============================] - 2s 36ms/step - loss: 0.4779 - f1_m: 0.8456\n"
          ],
          "name": "stdout"
        },
        {
          "output_type": "execute_result",
          "data": {
            "text/plain": [
              "[0.47793343663215637, 0.8456417918205261]"
            ]
          },
          "metadata": {
            "tags": []
          },
          "execution_count": 15
        }
      ]
    },
    {
      "cell_type": "markdown",
      "metadata": {
        "id": "o11eqy45hmUZ"
      },
      "source": [
        "# Predict results on test set and write them to CSV file for submission to Kaggle"
      ]
    },
    {
      "cell_type": "code",
      "metadata": {
        "colab": {
          "base_uri": "https://localhost:8080/"
        },
        "id": "S-ZbYZFYRwpk",
        "outputId": "478061c3-3150-495d-dbcd-7cfa077e49c8"
      },
      "source": [
        "df_result = pd.DataFrame(model_new.predict_classes(X_test))\n",
        "df_result.to_csv(\"result_cnn.csv\")\n"
      ],
      "execution_count": null,
      "outputs": [
        {
          "output_type": "stream",
          "text": [
            "/usr/local/lib/python3.7/dist-packages/tensorflow/python/keras/engine/sequential.py:450: UserWarning: `model.predict_classes()` is deprecated and will be removed after 2021-01-01. Please use instead:* `np.argmax(model.predict(x), axis=-1)`,   if your model does multi-class classification   (e.g. if it uses a `softmax` last-layer activation).* `(model.predict(x) > 0.5).astype(\"int32\")`,   if your model does binary classification   (e.g. if it uses a `sigmoid` last-layer activation).\n",
            "  warnings.warn('`model.predict_classes()` is deprecated and '\n"
          ],
          "name": "stderr"
        }
      ]
    },
    {
      "cell_type": "markdown",
      "metadata": {
        "id": "sDsEqA7_hzJG"
      },
      "source": [
        "# Confusion Matrix"
      ]
    },
    {
      "cell_type": "code",
      "metadata": {
        "id": "qzQdUhD_i2WM",
        "colab": {
          "base_uri": "https://localhost:8080/"
        },
        "outputId": "5f7444a2-acf8-4e94-89ff-6b275ad8683c"
      },
      "source": [
        "df_pred = pd.DataFrame(model_new.predict_classes(X_val))"
      ],
      "execution_count": null,
      "outputs": [
        {
          "output_type": "stream",
          "text": [
            "/usr/local/lib/python3.7/dist-packages/tensorflow/python/keras/engine/sequential.py:450: UserWarning: `model.predict_classes()` is deprecated and will be removed after 2021-01-01. Please use instead:* `np.argmax(model.predict(x), axis=-1)`,   if your model does multi-class classification   (e.g. if it uses a `softmax` last-layer activation).* `(model.predict(x) > 0.5).astype(\"int32\")`,   if your model does binary classification   (e.g. if it uses a `sigmoid` last-layer activation).\n",
            "  warnings.warn('`model.predict_classes()` is deprecated and '\n"
          ],
          "name": "stderr"
        }
      ]
    },
    {
      "cell_type": "code",
      "metadata": {
        "colab": {
          "base_uri": "https://localhost:8080/"
        },
        "id": "ugfkwBFtKcNA",
        "outputId": "3b6ec17e-caf3-48c3-cfe4-940a31c163e7"
      },
      "source": [
        "from sklearn.metrics import classification_report\n",
        "\n",
        "print(classification_report(Y_val, df_pred))"
      ],
      "execution_count": null,
      "outputs": [
        {
          "output_type": "stream",
          "text": [
            "              precision    recall  f1-score   support\n",
            "\n",
            "           0       0.82      0.92      0.87       776\n",
            "           1       0.90      0.80      0.85       759\n",
            "\n",
            "    accuracy                           0.86      1535\n",
            "   macro avg       0.86      0.86      0.86      1535\n",
            "weighted avg       0.86      0.86      0.86      1535\n",
            "\n"
          ],
          "name": "stdout"
        }
      ]
    }
  ]
}